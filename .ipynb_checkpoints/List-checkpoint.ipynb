{
 "cells": [
  {
   "cell_type": "markdown",
   "id": "977529a4",
   "metadata": {},
   "source": [
    "# List\n",
    "\n",
    "##### To store more than one value, we can use data-type list"
   ]
  },
  {
   "cell_type": "code",
   "execution_count": 1,
   "id": "326f0b4b",
   "metadata": {},
   "outputs": [
    {
     "data": {
      "text/plain": [
       "[56, 72, 92, 84, 100]"
      ]
     },
     "execution_count": 1,
     "metadata": {},
     "output_type": "execute_result"
    }
   ],
   "source": [
    "list_score = [56, 72, 92, 84, 100]\n",
    "list_score"
   ]
  },
  {
   "cell_type": "code",
   "execution_count": 3,
   "id": "09eb5885",
   "metadata": {},
   "outputs": [
    {
     "data": {
      "text/plain": [
       "list"
      ]
     },
     "execution_count": 3,
     "metadata": {},
     "output_type": "execute_result"
    }
   ],
   "source": [
    "#to check data-type, type() function is often used!\n",
    "\n",
    "type(list_score)"
   ]
  },
  {
   "cell_type": "markdown",
   "id": "1d368ce8",
   "metadata": {},
   "source": [
    "## Details on lists"
   ]
  },
  {
   "cell_type": "markdown",
   "id": "50faae92",
   "metadata": {},
   "source": [
    "### List can contain different types of object"
   ]
  },
  {
   "cell_type": "code",
   "execution_count": 12,
   "id": "20b3f1a2",
   "metadata": {},
   "outputs": [
    {
     "data": {
      "text/plain": [
       "[1, 'two', 3.0]"
      ]
     },
     "execution_count": 12,
     "metadata": {},
     "output_type": "execute_result"
    }
   ],
   "source": [
    "mylist = [1, 'two', 3.0]\n",
    "mylist"
   ]
  },
  {
   "cell_type": "code",
   "execution_count": 13,
   "id": "3643c91d",
   "metadata": {},
   "outputs": [
    {
     "name": "stdout",
     "output_type": "stream",
     "text": [
      "<class 'int'>\n",
      "<class 'str'>\n",
      "<class 'float'>\n"
     ]
    }
   ],
   "source": [
    "print(type(mylist[0]))\n",
    "print(type(mylist[1]))\n",
    "print(type(mylist[2]))"
   ]
  },
  {
   "cell_type": "markdown",
   "id": "b6e28042",
   "metadata": {},
   "source": [
    "### List of Lists: List can also contain another list as element"
   ]
  },
  {
   "cell_type": "code",
   "execution_count": 18,
   "id": "dd31a82a",
   "metadata": {},
   "outputs": [
    {
     "name": "stdout",
     "output_type": "stream",
     "text": [
      "[[10, 20, 30, 40, 50], [60, 70, 80, 90, 100]]\n"
     ]
    }
   ],
   "source": [
    "list_score1 = [10, 20, 30, 40, 50]\n",
    "list_score2 = [60, 70, 80, 90, 100]\n",
    "list_score3 = [list_score1, list_score2]\n",
    "\n",
    "print(list_score3)"
   ]
  },
  {
   "cell_type": "markdown",
   "id": "6539ab5c",
   "metadata": {},
   "source": [
    "### List if Lists: Elements can be accessed by two indices"
   ]
  },
  {
   "cell_type": "code",
   "execution_count": 19,
   "id": "c3d6800a",
   "metadata": {},
   "outputs": [
    {
     "name": "stdout",
     "output_type": "stream",
     "text": [
      "score1 of class1 is 10\n",
      "score1 of class2 is 60\n"
     ]
    }
   ],
   "source": [
    "print(\"score1 of class1 is {}\".format(list_score3[0][0]))\n",
    "print(\"score1 of class2 is {}\".format(list_score3[1][0]))"
   ]
  },
  {
   "cell_type": "code",
   "execution_count": null,
   "id": "5d220554",
   "metadata": {},
   "outputs": [],
   "source": []
  },
  {
   "cell_type": "markdown",
   "id": "ab929c1c",
   "metadata": {},
   "source": [
    "### List manipulation: concatenation"
   ]
  },
  {
   "cell_type": "code",
   "execution_count": 14,
   "id": "1d8dd385",
   "metadata": {},
   "outputs": [
    {
     "name": "stdout",
     "output_type": "stream",
     "text": [
      "[1, 2, 3, 4, 5, 6, 7]\n",
      "[8, 9, 10, 11, 12, 13, 14]\n"
     ]
    }
   ],
   "source": [
    "list1 = [1, 2, 3, 4, 5, 6, 7]\n",
    "list2 = [8, 9, 10, 11, 12, 13, 14]\n",
    "\n",
    "print(list1)\n",
    "print(list2)"
   ]
  },
  {
   "cell_type": "code",
   "execution_count": 16,
   "id": "d6a3d4af",
   "metadata": {},
   "outputs": [
    {
     "name": "stdout",
     "output_type": "stream",
     "text": [
      "[1, 2, 3, 4, 5, 6, 7, 8, 9, 10, 11, 12, 13, 14]\n"
     ]
    }
   ],
   "source": [
    "list3 = list1 + list2\n",
    "print(list3)"
   ]
  },
  {
   "cell_type": "markdown",
   "id": "e89e101e",
   "metadata": {},
   "source": [
    "### List manipulation: duplication"
   ]
  },
  {
   "cell_type": "code",
   "execution_count": 17,
   "id": "bf4839c6",
   "metadata": {},
   "outputs": [
    {
     "name": "stdout",
     "output_type": "stream",
     "text": [
      "[1, 2, 3, 4, 5, 6, 7, 1, 2, 3, 4, 5, 6, 7]\n"
     ]
    }
   ],
   "source": [
    "list4 = list1*2\n",
    "print(list4)"
   ]
  },
  {
   "cell_type": "markdown",
   "id": "a69d08c5",
   "metadata": {},
   "source": [
    "## Basic List operations(append, insert, pop, remove, clear, count, sort, reverse, copy)\n",
    "##### Many operations can be done to list-type variable\n"
   ]
  },
  {
   "cell_type": "markdown",
   "id": "2dbb8b2f",
   "metadata": {},
   "source": [
    "### 1. Adding Element without index-specified -> .append(value)"
   ]
  },
  {
   "cell_type": "code",
   "execution_count": 4,
   "id": "2e981f45",
   "metadata": {},
   "outputs": [
    {
     "data": {
      "text/plain": [
       "[56, 72, 92, 84, 100]"
      ]
     },
     "execution_count": 4,
     "metadata": {},
     "output_type": "execute_result"
    }
   ],
   "source": [
    "#set empty list and add elements\n",
    "#\n",
    "list_score = []\n",
    "list_score.append(56)\n",
    "list_score.append(72)\n",
    "list_score.append(92)\n",
    "list_score.append(84)\n",
    "list_score.append(100)\n",
    "\n",
    "list_score"
   ]
  },
  {
   "cell_type": "markdown",
   "id": "d01707ea",
   "metadata": {},
   "source": [
    "### 2. Adding Element with index-specified -> .insert(index, value)"
   ]
  },
  {
   "cell_type": "code",
   "execution_count": 1,
   "id": "1d129b08",
   "metadata": {},
   "outputs": [
    {
     "data": {
      "text/plain": [
       "[56, 72, 92, 84, 100]"
      ]
     },
     "execution_count": 1,
     "metadata": {},
     "output_type": "execute_result"
    }
   ],
   "source": [
    "list_score = []\n",
    "\n",
    "list_score.insert(0, 56)\n",
    "list_score.insert(1, 72)\n",
    "list_score.insert(2, 92)\n",
    "list_score.insert(3, 84)\n",
    "list_score.insert(4, 100)\n",
    "\n",
    "list_score"
   ]
  },
  {
   "cell_type": "markdown",
   "id": "3d7993c4",
   "metadata": {},
   "source": [
    "### 3. Remove elements in list by using index -> .pop(index)"
   ]
  },
  {
   "cell_type": "code",
   "execution_count": 3,
   "id": "64b19f38",
   "metadata": {},
   "outputs": [
    {
     "data": {
      "text/plain": [
       "[72, 92, 84]"
      ]
     },
     "execution_count": 3,
     "metadata": {},
     "output_type": "execute_result"
    }
   ],
   "source": [
    "list_score.pop()\n",
    "list_score"
   ]
  },
  {
   "cell_type": "markdown",
   "id": "aaee45fe",
   "metadata": {},
   "source": [
    "###### .pop() method can also be used as Stacks[Last-in First-out]"
   ]
  },
  {
   "cell_type": "code",
   "execution_count": 4,
   "id": "fb668cb8",
   "metadata": {},
   "outputs": [
    {
     "name": "stdout",
     "output_type": "stream",
     "text": [
      "[10, 20, 30, 40, 50]\n"
     ]
    }
   ],
   "source": [
    "stack = []\n",
    "stack.append(10)\n",
    "stack.append(20)\n",
    "stack.append(30)\n",
    "stack.append(40)\n",
    "stack.append(50)\n",
    "\n",
    "print(stack)"
   ]
  },
  {
   "cell_type": "code",
   "execution_count": null,
   "id": "895c3ee5",
   "metadata": {},
   "outputs": [],
   "source": []
  },
  {
   "cell_type": "code",
   "execution_count": null,
   "id": "c52106b6",
   "metadata": {},
   "outputs": [],
   "source": []
  },
  {
   "cell_type": "markdown",
   "id": "1aa0b6dd",
   "metadata": {},
   "source": [
    "### 4. Remove elemets in list by using value-> .remove(value) "
   ]
  },
  {
   "cell_type": "code",
   "execution_count": 13,
   "id": "8ed50bed",
   "metadata": {},
   "outputs": [
    {
     "data": {
      "text/plain": [
       "[72, 92, 84]"
      ]
     },
     "execution_count": 13,
     "metadata": {},
     "output_type": "execute_result"
    }
   ],
   "source": [
    "list_score.remove(100)\n",
    "list_score"
   ]
  },
  {
   "cell_type": "markdown",
   "id": "17aeb973",
   "metadata": {},
   "source": [
    "### 5. Remove all the elements in list -> .clear()"
   ]
  },
  {
   "cell_type": "code",
   "execution_count": 6,
   "id": "c289dbf3",
   "metadata": {},
   "outputs": [
    {
     "data": {
      "text/plain": [
       "[10, 20, 30, 40, 50, 60, 70, 80, 90, 100]"
      ]
     },
     "execution_count": 6,
     "metadata": {},
     "output_type": "execute_result"
    }
   ],
   "source": [
    "#seting new list\n",
    "list_new = [10, 20, 30, 40, 50, 60, 70, 80, 90, 100]\n",
    "list_new"
   ]
  },
  {
   "cell_type": "code",
   "execution_count": 7,
   "id": "890b84b3",
   "metadata": {},
   "outputs": [
    {
     "data": {
      "text/plain": [
       "[]"
      ]
     },
     "execution_count": 7,
     "metadata": {},
     "output_type": "execute_result"
    }
   ],
   "source": [
    "#clear all the list elements. Compare result!\n",
    "list_new.clear()\n",
    "list_new"
   ]
  },
  {
   "cell_type": "markdown",
   "id": "aafe32fe",
   "metadata": {},
   "source": [
    "### 6. Check the number of values of a specified element in a list -> .count(value)"
   ]
  },
  {
   "cell_type": "code",
   "execution_count": 8,
   "id": "812a4cfa",
   "metadata": {},
   "outputs": [
    {
     "data": {
      "text/plain": [
       "2"
      ]
     },
     "execution_count": 8,
     "metadata": {},
     "output_type": "execute_result"
    }
   ],
   "source": [
    "list_score = [11, 12, 11, 50, 89, 77, 100, 100]\n",
    "list_score.count(100)"
   ]
  },
  {
   "cell_type": "markdown",
   "id": "237dfa0f",
   "metadata": {},
   "source": [
    "### 7. Sort elements in a list by increasing order -> .sort()"
   ]
  },
  {
   "cell_type": "code",
   "execution_count": 9,
   "id": "8fb3d345",
   "metadata": {},
   "outputs": [
    {
     "data": {
      "text/plain": [
       "[11, 12, 11, 50, 89, 77, 100, 100]"
      ]
     },
     "execution_count": 9,
     "metadata": {},
     "output_type": "execute_result"
    }
   ],
   "source": [
    "#Before sorting\n",
    "list_score"
   ]
  },
  {
   "cell_type": "code",
   "execution_count": 10,
   "id": "3552b148",
   "metadata": {},
   "outputs": [
    {
     "data": {
      "text/plain": [
       "[11, 11, 12, 50, 77, 89, 100, 100]"
      ]
     },
     "execution_count": 10,
     "metadata": {},
     "output_type": "execute_result"
    }
   ],
   "source": [
    "#After sorting\n",
    "list_score.sort()\n",
    "list_score"
   ]
  },
  {
   "cell_type": "markdown",
   "id": "105cb8ef",
   "metadata": {},
   "source": [
    "### 8. Sort elements in a list by decreasing order -> .reverse()"
   ]
  },
  {
   "cell_type": "code",
   "execution_count": 11,
   "id": "422c983c",
   "metadata": {},
   "outputs": [
    {
     "data": {
      "text/plain": [
       "[100, 100, 89, 77, 50, 12, 11, 11]"
      ]
     },
     "execution_count": 11,
     "metadata": {},
     "output_type": "execute_result"
    }
   ],
   "source": [
    "list_score.reverse()\n",
    "list_score"
   ]
  },
  {
   "cell_type": "markdown",
   "id": "32168ec0",
   "metadata": {},
   "source": [
    "###### We can also use appropriate key value in .sort() method\n",
    "###### To sort list by decreasing order, .sort(reverse=True) is used"
   ]
  },
  {
   "cell_type": "code",
   "execution_count": 39,
   "id": "a1535b48",
   "metadata": {},
   "outputs": [
    {
     "name": "stdout",
     "output_type": "stream",
     "text": [
      "[100, 100, 89, 77, 50, 12, 11, 11]\n"
     ]
    }
   ],
   "source": [
    "list_score = [11, 12, 11, 50, 89, 77, 100, 100]\n",
    "list_score.sort(reverse = True)\n",
    "print(list_score)"
   ]
  },
  {
   "cell_type": "markdown",
   "id": "a99ba0a8",
   "metadata": {},
   "source": [
    "###### We can also use built-in function sorted() to sort list"
   ]
  },
  {
   "cell_type": "code",
   "execution_count": 24,
   "id": "71889653",
   "metadata": {},
   "outputs": [
    {
     "name": "stdout",
     "output_type": "stream",
     "text": [
      "[11, 12, 11, 50, 89, 77, 100, 100]\n",
      "[11, 11, 12, 50, 77, 89, 100, 100]\n"
     ]
    }
   ],
   "source": [
    "origin_list = [11, 12, 11, 50, 66, 77, 100, 100]\n",
    "sorted_list = sorted(origin_list)\n",
    "\n",
    "print(origin_list)\n",
    "print(sorted_list)"
   ]
  },
  {
   "cell_type": "markdown",
   "id": "5eb9ec02",
   "metadata": {},
   "source": [
    "###### Difference between .sort() method and built-in sorted() function\n",
    "######         .sort method changes the original list\n",
    "######         sorted() function preserves original list, to store sorted list by sorted() fuction, we must create new list to store them!"
   ]
  },
  {
   "cell_type": "code",
   "execution_count": 32,
   "id": "29c305c5",
   "metadata": {},
   "outputs": [],
   "source": [
    "#Use method to sort list\n",
    "origin_list1 = [11, 12, 11, 50, 66, 77, 100, 100]\n",
    "sorted_by_method = origin_list1.sort()\n",
    "\n",
    "#Use built-in fuction to sort list\n",
    "origin_list2 = [11, 12, 11, 50, 66, 77, 100, 100]\n",
    "sorted_by_function = sorted(origin_list2)"
   ]
  },
  {
   "cell_type": "code",
   "execution_count": 34,
   "id": "02db7e29",
   "metadata": {},
   "outputs": [
    {
     "name": "stdout",
     "output_type": "stream",
     "text": [
      "[11, 11, 12, 50, 66, 77, 100, 100]\n",
      "None\n",
      "[11, 12, 11, 50, 66, 77, 100, 100]\n",
      "[11, 11, 12, 50, 66, 77, 100, 100]\n"
     ]
    }
   ],
   "source": [
    "print(origin_list1)\n",
    "print(sorted_by_method)\n",
    "\n",
    "print(origin_list2)\n",
    "print(sorted_by_function)"
   ]
  },
  {
   "cell_type": "markdown",
   "id": "b65d7033",
   "metadata": {},
   "source": [
    "### example: calculate mean score stored in list\n",
    "##### We can use sum(list_name) to get sum of elements and len(list_name) to get number of elements"
   ]
  },
  {
   "cell_type": "code",
   "execution_count": 14,
   "id": "83f9a30b",
   "metadata": {},
   "outputs": [
    {
     "data": {
      "text/plain": [
       "80.8"
      ]
     },
     "execution_count": 14,
     "metadata": {},
     "output_type": "execute_result"
    }
   ],
   "source": [
    "list_score=[56, 72, 92, 84, 100]\n",
    "mean = sum(list_score)/len(list_score)\n",
    "mean"
   ]
  }
 ],
 "metadata": {
  "kernelspec": {
   "display_name": "Python 3 (ipykernel)",
   "language": "python",
   "name": "python3"
  },
  "language_info": {
   "codemirror_mode": {
    "name": "ipython",
    "version": 3
   },
   "file_extension": ".py",
   "mimetype": "text/x-python",
   "name": "python",
   "nbconvert_exporter": "python",
   "pygments_lexer": "ipython3",
   "version": "3.9.16"
  }
 },
 "nbformat": 4,
 "nbformat_minor": 5
}
