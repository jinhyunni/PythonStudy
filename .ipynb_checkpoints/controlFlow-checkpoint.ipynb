{
 "cells": [
  {
   "cell_type": "markdown",
   "id": "eb383c0d",
   "metadata": {},
   "source": [
    "# Control Flows in Python\n",
    "\n",
    "## While, if else, for, break and continue, pass, match"
   ]
  },
  {
   "cell_type": "markdown",
   "id": "efb31f9a",
   "metadata": {},
   "source": [
    "###### Control flow refers to the order in which the statements in a Python program are executed. Python provides various control flow structures that enable you to specify the order in which the code is executed.\n",
    "\n",
    "#### 1. Conditional statement(if-else)\n",
    "        Test a condition -> True -> Execute code\n",
    "#### 2. Loops(for, While): \n",
    "        for: Iterate over a sequence of element \n",
    "        while: Iterate over a sequenc of element as long as a condition is true\n",
    "#### 3. Break and continue\n",
    "        break: Used to exit a loop \n",
    "        continue: Skip the current iteration and move on th next iteration"
   ]
  },
  {
   "cell_type": "code",
   "execution_count": null,
   "id": "d5c2cfeb",
   "metadata": {},
   "outputs": [],
   "source": []
  },
  {
   "cell_type": "code",
   "execution_count": null,
   "id": "985149f4",
   "metadata": {},
   "outputs": [],
   "source": []
  },
  {
   "cell_type": "code",
   "execution_count": null,
   "id": "b3368bd5",
   "metadata": {},
   "outputs": [],
   "source": []
  },
  {
   "cell_type": "code",
   "execution_count": null,
   "id": "a2faa88f",
   "metadata": {},
   "outputs": [],
   "source": []
  },
  {
   "cell_type": "code",
   "execution_count": null,
   "id": "5c8febfa",
   "metadata": {},
   "outputs": [],
   "source": []
  },
  {
   "cell_type": "code",
   "execution_count": null,
   "id": "c64bd3bd",
   "metadata": {},
   "outputs": [],
   "source": []
  },
  {
   "cell_type": "code",
   "execution_count": null,
   "id": "397c8e28",
   "metadata": {},
   "outputs": [],
   "source": []
  }
 ],
 "metadata": {
  "kernelspec": {
   "display_name": "Python 3 (ipykernel)",
   "language": "python",
   "name": "python3"
  },
  "language_info": {
   "codemirror_mode": {
    "name": "ipython",
    "version": 3
   },
   "file_extension": ".py",
   "mimetype": "text/x-python",
   "name": "python",
   "nbconvert_exporter": "python",
   "pygments_lexer": "ipython3",
   "version": "3.9.16"
  }
 },
 "nbformat": 4,
 "nbformat_minor": 5
}
