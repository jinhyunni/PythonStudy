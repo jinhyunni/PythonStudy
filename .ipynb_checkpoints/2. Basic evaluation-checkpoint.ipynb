{
 "cells": [
  {
   "cell_type": "code",
   "execution_count": null,
   "id": "c07d85d8",
   "metadata": {},
   "outputs": [],
   "source": [
    "#Basic arithmethic operator"
   ]
  },
  {
   "cell_type": "markdown",
   "id": "beef786d",
   "metadata": {},
   "source": [
    "In python, like any other computational language, we can perom basic arithmetics on specific data types\n",
    "let's take 'float' data for example"
   ]
  },
  {
   "cell_type": "code",
   "execution_count": 1,
   "id": "47996b06",
   "metadata": {},
   "outputs": [
    {
     "data": {
      "text/plain": [
       "112"
      ]
     },
     "execution_count": 1,
     "metadata": {},
     "output_type": "execute_result"
    }
   ],
   "source": [
    "##addition\n",
    "100+12"
   ]
  },
  {
   "cell_type": "code",
   "execution_count": 2,
   "id": "1a9c238e",
   "metadata": {},
   "outputs": [
    {
     "data": {
      "text/plain": [
       "88"
      ]
     },
     "execution_count": 2,
     "metadata": {},
     "output_type": "execute_result"
    }
   ],
   "source": [
    "##substraction\n",
    "100-12"
   ]
  },
  {
   "cell_type": "code",
   "execution_count": 3,
   "id": "c3ea48fe",
   "metadata": {},
   "outputs": [
    {
     "data": {
      "text/plain": [
       "528"
      ]
     },
     "execution_count": 3,
     "metadata": {},
     "output_type": "execute_result"
    }
   ],
   "source": [
    "##multipilcation\n",
    "44*12"
   ]
  },
  {
   "cell_type": "code",
   "execution_count": 7,
   "id": "14024889",
   "metadata": {},
   "outputs": [
    {
     "data": {
      "text/plain": [
       "9"
      ]
     },
     "execution_count": 7,
     "metadata": {},
     "output_type": "execute_result"
    }
   ],
   "source": [
    "##powers\n",
    "3**2"
   ]
  },
  {
   "cell_type": "code",
   "execution_count": 4,
   "id": "722174d3",
   "metadata": {},
   "outputs": [
    {
     "data": {
      "text/plain": [
       "3.6666666666666665"
      ]
     },
     "execution_count": 4,
     "metadata": {},
     "output_type": "execute_result"
    }
   ],
   "source": [
    "##division\n",
    "44/12"
   ]
  },
  {
   "cell_type": "code",
   "execution_count": 5,
   "id": "aab8ba8c",
   "metadata": {},
   "outputs": [
    {
     "data": {
      "text/plain": [
       "3"
      ]
     },
     "execution_count": 5,
     "metadata": {},
     "output_type": "execute_result"
    }
   ],
   "source": [
    "###floor division(버림)\n",
    "44//12"
   ]
  },
  {
   "cell_type": "code",
   "execution_count": 6,
   "id": "261ae7c9",
   "metadata": {},
   "outputs": [
    {
     "data": {
      "text/plain": [
       "8"
      ]
     },
     "execution_count": 6,
     "metadata": {},
     "output_type": "execute_result"
    }
   ],
   "source": [
    "##modulo(나머지)\n",
    "44%12"
   ]
  },
  {
   "cell_type": "code",
   "execution_count": null,
   "id": "8dcac0ab",
   "metadata": {},
   "outputs": [],
   "source": [
    "##"
   ]
  }
 ],
 "metadata": {
  "kernelspec": {
   "display_name": "Python 3 (ipykernel)",
   "language": "python",
   "name": "python3"
  },
  "language_info": {
   "codemirror_mode": {
    "name": "ipython",
    "version": 3
   },
   "file_extension": ".py",
   "mimetype": "text/x-python",
   "name": "python",
   "nbconvert_exporter": "python",
   "pygments_lexer": "ipython3",
   "version": "3.9.13"
  }
 },
 "nbformat": 4,
 "nbformat_minor": 5
}
